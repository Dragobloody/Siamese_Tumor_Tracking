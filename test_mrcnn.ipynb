{
 "cells": [
  {
   "cell_type": "code",
   "execution_count": null,
   "metadata": {},
   "outputs": [],
   "source": [
    "import os\n",
    "import numpy as np\n",
    "import keras.layers\n",
    "import matplotlib.pyplot as plt\n",
    "#import tensorflow as tf\n",
    "from sklearn.metrics import mean_squared_error\n",
    "import h5py\n",
    "import scipy\n",
    "import skimage\n",
    "import random\n",
    "import csv\n",
    "import cv2\n",
    "import index_tracker as track  \n",
    "from keras.callbacks import LearningRateScheduler\n",
    "import time\n",
    "\n",
    "import tensorflow.compat.v1 as tf\n",
    "tf.disable_v2_behavior()\n",
    "\n",
    "# set seed\n",
    "from numpy.random import seed\n",
    "seed(1234)\n",
    "from tensorflow import set_random_seed\n",
    "set_random_seed(1234)\n",
    "\n",
    "\n",
    "from MaskRCNN import maskrcnn_model as modellib, data_generator as dg, config as conf, visualize, utils, metrics\n",
    "from mrcnn import test_mrcnn"
   ]
  },
  {
   "cell_type": "markdown",
   "metadata": {},
   "source": [
    "**1. Set test hyperparameters**"
   ]
  },
  {
   "cell_type": "code",
   "execution_count": null,
   "metadata": {},
   "outputs": [],
   "source": [
    "# config\n",
    "config = conf.Config()\n",
    "config.NAME = 'lung_tumor'\n",
    "config.BACKBONE = \"resnet50\"\n",
    "config.BATCH_SIZE =  1\n",
    "config.IMAGES_PER_GPU = 1\n",
    "TRAIN_BN = True\n",
    "config.IMAGE_HEIGHT = 384\n",
    "config.IMAGE_WIDTH = 384\n",
    "config.IMAGE_SHAPE = [384, 384, 1]\n",
    "config.MASK = False\n",
    "config.FPN_CLASSIF_FC_LAYERS_SIZE = 256\n",
    "config.DETECTION_MIN_CONFIDENCE = 0.1\n",
    "\n",
    "data_path = ''   \n",
    "model = 'mrcnn'\n",
    "data_mode = 'standard'"
   ]
  },
  {
   "cell_type": "markdown",
   "metadata": {},
   "source": [
    "**2. Load DRR test data**"
   ]
  },
  {
   "cell_type": "code",
   "execution_count": null,
   "metadata": {},
   "outputs": [],
   "source": [
    "# load data\n",
    "patient_name = 'patient1'\n",
    "model_path = data_path + patient_name + '/models/' + model + '/' + data_mode\n",
    "drr_data_path = model_path + '/dataset/'    \n",
    "LOG_DIR = model_path + '/logs/'\n",
    "\n",
    "test_imgs = load_data(drr_data_path + 'test_imgs.hdf5', 'test_imgs')\n",
    "test_labs = load_data(drr_data_path + 'test_labs.hdf5', 'test_labs')"
   ]
  },
  {
   "cell_type": "markdown",
   "metadata": {},
   "source": [
    "**3. Preprocess DRR test data**"
   ]
  },
  {
   "cell_type": "code",
   "execution_count": null,
   "metadata": {},
   "outputs": [],
   "source": [
    "# get the center 384x384 region\n",
    "test_imgs = test_imgs[..., 64:-64]\n",
    "test_labs = test_labs[..., 64:-64]\n",
    "for i in range(test_labs.shape[0]):\n",
    "    for j in range(test_labs.shape[1]):\n",
    "        test_labs[i, j] = fit_ellipse(test_labs[i, j]) \n",
    "test_imgs = (test_imgs+1)/2.\n",
    "\n",
    "# TRAIN MODEL\n",
    "s = test_imgs.shape\n",
    "test_imgs = np.reshape(test_imgs, (-1, s[2], s[3]))\n",
    "test_labs = np.reshape(test_labs, (-1, s[2], s[3]))"
   ]
  },
  {
   "cell_type": "markdown",
   "metadata": {},
   "source": [
    "**4. Load trained model**"
   ]
  },
  {
   "cell_type": "code",
   "execution_count": null,
   "metadata": {},
   "outputs": [],
   "source": [
    "# load model\n",
    "test_model = modellib.MaskRCNN(mode=\"inference\", model_dir=LOG_DIR,\n",
    "                          config=config)    \n",
    "weights_path = test_model.find_last()\n",
    "# Load weights\n",
    "print(\"Loading weights \", weights_path)\n",
    "test_model.load_weights(weights_path, by_name=True)    "
   ]
  },
  {
   "cell_type": "markdown",
   "metadata": {},
   "source": [
    "**5. Test model**"
   ]
  },
  {
   "cell_type": "code",
   "execution_count": null,
   "metadata": {},
   "outputs": [],
   "source": [
    "gt, pred, nr_pred = test_model.test(test_imgs_mrcnn, test_labs_mrcnn, verbose=0)    \n",
    "# get groud truth data\n",
    "gt_bboxs = gt['gt_bboxs']\n",
    "gt_class_ids =  gt['gt_class_ids']\n",
    "gt_masks =  gt['gt_masks']\n",
    "# get predicted data\n",
    "pred_bboxs =  pred['pred_bboxs'][:, np.newaxis, ...]\n",
    "pred_class_ids =  pred['pred_class_ids'][:, np.newaxis, ...]\n",
    "pred_scores =  pred['pred_scores'][:, np.newaxis, ...]"
   ]
  },
  {
   "cell_type": "markdown",
   "metadata": {},
   "source": [
    "**6. Compute metrics**"
   ]
  },
  {
   "cell_type": "code",
   "execution_count": null,
   "metadata": {},
   "outputs": [],
   "source": [
    "miou = metrics.mIOU(gt_bboxs, pred_bboxs)\n",
    "accuracy = metrics.accuracy(gt_bboxs, pred_bboxs, \n",
    "                            iou_threshold = 0.7)\n",
    "cor_z, cor_x = metrics.concordance_correlation_coefficient(gt_bboxs, pred_bboxs)\n",
    "z_mad, z_std, x_mad, x_std = metrics.mad(gt_bboxs, pred_bboxs)    \n",
    "z_mad, z_std, x_mad, x_std = z_mad/3, z_std/3, x_mad/3, x_std/3 "
   ]
  },
  {
   "cell_type": "markdown",
   "metadata": {},
   "source": [
    "**7. Load X-Rays**"
   ]
  },
  {
   "cell_type": "code",
   "execution_count": null,
   "metadata": {},
   "outputs": [],
   "source": [
    "data_path = ''\n",
    "patient_name = 'patient2'\n",
    "xray_data_path = data_path + patient_name + '/X_rays/'\n",
    "\n",
    "xrays = load_data(xray_data_path + 'patient2_x_rays_1.h5', 'img')\n",
    "angles = load_data(xray_data_path + 'patient2_x_rays_1.h5', 'rot')\n",
    "angles = angles-270"
   ]
  },
  {
   "cell_type": "markdown",
   "metadata": {},
   "source": [
    "**8. Preprocess X-Rays**"
   ]
  },
  {
   "cell_type": "code",
   "execution_count": null,
   "metadata": {},
   "outputs": [],
   "source": [
    "xrays = utils.log_transform(xrays)\n",
    "\n",
    "shape = np.array(xrays.shape[1:])\n",
    "new_shape = [384, 384]\n",
    "xrays = xrays[:, shape[0]//2-new_shape[0]//2:shape[0]//2+new_shape[0]//2, \n",
    "                shape[1]//2-new_shape[1]//2:shape[1]//2+new_shape[1]//2] \n",
    "\n",
    "xrays = (xrays-np.min(xrays))/(np.max(xrays)-np.min(xrays))\n",
    "xrays = utils.gamma_transform(xrays, 5)\n",
    "\n",
    "xrays_mrcnn = xrays[..., 64:-64, np.newaxis]"
   ]
  },
  {
   "cell_type": "markdown",
   "metadata": {},
   "source": [
    "**9. Test on X-Rays**"
   ]
  },
  {
   "cell_type": "code",
   "execution_count": null,
   "metadata": {},
   "outputs": [],
   "source": [
    "nr_pred = 0\n",
    "pred_bboxs, pred_class_ids, pred_masks, pred_scores = [], [], [], [] \n",
    "for i in range(xrays_mrcnn.shape[0]):  \n",
    "    result = test_model.detect([xrays_mrcnn[i]], 0)\n",
    "    if len(result[0]['scores']) > 0:\n",
    "        max_idx = np.argmax(result[0]['scores'])\n",
    "        pred_bboxs.append(result[0]['rois'][max_idx])\n",
    "        pred_class_ids.append(result[0]['class_ids'][max_idx])\n",
    "        pred_scores.append(result[0]['scores'][max_idx])\n",
    "        nr_pred += 1\n",
    "        print(pred_bboxs[-1])\n",
    "    else:\n",
    "        pred_bboxs.append(pred_bboxs[-1])\n",
    "        pred_class_ids.append(pred_class_ids[-1])\n",
    "        pred_scores.append(0)\n",
    "        print(pred_bboxs[-1])\n",
    "\n",
    "\n",
    "nr_pred = nr_pred/xrays_mrcnn.shape[0] \n",
    "pred_bboxs = np.stack(pred_bboxs, axis = 0)\n",
    "pred_class_ids = np.stack(pred_class_ids, axis = 0)\n",
    "pred_scores = np.stack(pred_scores, axis = 0)"
   ]
  }
 ],
 "metadata": {
  "kernelspec": {
   "display_name": "Python 3",
   "language": "python",
   "name": "python3"
  },
  "language_info": {
   "codemirror_mode": {
    "name": "ipython",
    "version": 3
   },
   "file_extension": ".py",
   "mimetype": "text/x-python",
   "name": "python",
   "nbconvert_exporter": "python",
   "pygments_lexer": "ipython3",
   "version": "3.6.10"
  }
 },
 "nbformat": 4,
 "nbformat_minor": 4
}
