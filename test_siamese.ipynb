{
 "cells": [
  {
   "cell_type": "code",
   "execution_count": null,
   "metadata": {},
   "outputs": [],
   "source": [
    "import sys\n",
    "import os\n",
    "import random\n",
    "import datetime\n",
    "import re\n",
    "import math\n",
    "import logging\n",
    "from collections import OrderedDict\n",
    "import multiprocessing\n",
    "import numpy as np\n",
    "import tensorflow as tf\n",
    "import  keras\n",
    "import keras.backend as K\n",
    "import keras.layers as KL\n",
    "import keras.engine as KE\n",
    "import keras.models as KM\n",
    "\n",
    "import index_tracker as track   \n",
    "import csv\n",
    "from keras.callbacks import LearningRateScheduler\n",
    "import cv2\n",
    "import scipy\n",
    "import h5py\n",
    "import skimage\n",
    "import time\n",
    "\n",
    "# set seed\n",
    "from numpy.random import seed\n",
    "seed(1234)\n",
    "from tensorflow import set_random_seed\n",
    "set_random_seed(1234)\n",
    "\n",
    "from siammask import utils, rpn as rp, data_generator as dg, visualize, metrics\n",
    "from siammask.config import Config\n",
    "\n",
    "\n",
    "from siammask import siammask_model as modellib\n",
    "import dicom_to_numpy as dtn\n",
    "import matplotlib.pyplot as plt\n",
    "\n",
    "from siammask import testing_code"
   ]
  },
  {
   "cell_type": "markdown",
   "metadata": {},
   "source": [
    "**1. Set test hyperparameters**"
   ]
  },
  {
   "cell_type": "code",
   "execution_count": null,
   "metadata": {},
   "outputs": [],
   "source": [
    "class TumorConfig(Config):    \n",
    "    NAME = 'lung_tumor'    \n",
    "    LOSS_WEIGHTS = {\n",
    "        \"rpn_class_loss\": 1.,\n",
    "        \"rpn_bbox_loss\": 1.,   \n",
    "        \"rpn_centerness_loss\": 1.,        \n",
    "        \"rpn_mask_loss\": 1.        \n",
    "    }\n",
    "    LEARNING_RATE = 0.001\n",
    "    LEARNING_MOMENTUM = 0.9\n",
    "    IMAGES_PER_GPU = 1\n",
    "    TRAIN_BN = True\n",
    "                 \n",
    "    IMAGE_HEIGHT = 384\n",
    "    IMAGE_WIDTH = 512\n",
    "    IMAGE_SHAPE = [384, 512, 1]\n",
    "    STEPS_PER_EPOCH = 1000\n",
    "    VALIDATION_STEPS = 181\n",
    "    \n",
    "    BACKBONE_STRIDES = [8]\n",
    "    RPN_ANCHOR_SCALES = [64]\n",
    "    \n",
    "    POST_NMS_ROIS_TRAINING = 1024\n",
    "    POST_NMS_ROIS_INFERENCE = 512\n",
    "    RPN_TRAIN_ANCHORS_PER_IMAGE = 256\n",
    "    RPN_NMS_THRESHOLD = 0.8\n",
    "    BBOX_LOSS_LAMDA_D = 10\n",
    "    BBOX_LOSS_LAMDA_C = 1\n",
    "    \n",
    "    TRAIN_MASKS_PER_IMAGE = 20\n",
    "    \n",
    "    USE_BN = True\n",
    "    USE_DP = False\n",
    "    \n",
    "    ANCHORLESS = True \n",
    "    SIAMRPN = True \n",
    "    CROP = True\n",
    "    \n",
    "    MASK = False\n",
    "    REFINE = False    \n",
    "    STAGE4 = True\n",
    "    SHARED = False\n",
    "    BACKBONE = \"resnet50\"\n",
    "    \n",
    "    BBOX_RATIO = 0.7\n",
    "    \n",
    "    BBOX_SIGMA = 1.0\n",
    "    \n",
    "    KERNEL_IMAGE_SIZE = 128\n",
    "    IMAGE_CHANNEL_COUNT = 3\n",
    "    if CROP:\n",
    "        FEATURES_SHAPE = [25, 25]\n",
    "    else:\n",
    "        FEATURES_SHAPE = [17, 17]   \n",
    "\n",
    "\n",
    "# SET UP CONFIG\n",
    "config = TumorConfig()"
   ]
  },
  {
   "cell_type": "markdown",
   "metadata": {},
   "source": [
    "**2. Load test datasets**"
   ]
  },
  {
   "cell_type": "code",
   "execution_count": null,
   "metadata": {},
   "outputs": [],
   "source": [
    "data_path = ''\n",
    "patient_name = 'patient2'\n",
    "model = 'siammask'\n",
    "data_mode = 'decorrelated'\n",
    "drr_data_path = data_path + patient_name + '/models/'+ model + '/' + data_mode +'/dataset/'\n",
    "# Directory to save logs and trained model\n",
    "LOG_DIR =  data_path + patient_name + '/models/' + model + '/' + data_mode +'/logs/'\n",
    "\n",
    "\n",
    "gans=''\n",
    "test_imgs = dtn.load_data(drr_data_path + 'test_imgs.hdf5', 'test_imgs')\n",
    "test_labs = dtn.load_data(drr_data_path + 'test_labs.hdf5', 'test_labs')"
   ]
  },
  {
   "cell_type": "markdown",
   "metadata": {},
   "source": [
    "**3. Preprocess loaded datasets**"
   ]
  },
  {
   "cell_type": "code",
   "execution_count": null,
   "metadata": {},
   "outputs": [],
   "source": [
    "for i in range(test_labs.shape[0]):\n",
    "    for j in range(test_labs.shape[1]):\n",
    "        test_labs[i, j] = fit_ellipse(test_labs[i, j])\n",
    "        \n",
    "test_imgs = (test_imgs+1)/2."
   ]
  },
  {
   "cell_type": "markdown",
   "metadata": {},
   "source": [
    "**4. Load trained model**"
   ]
  },
  {
   "cell_type": "code",
   "execution_count": null,
   "metadata": {},
   "outputs": [],
   "source": [
    "model = modellib.SiamMask(mode=\"inference\", config=config,\n",
    "                                      model_dir=LOG_DIR)\n",
    "\n",
    "\n",
    "weights_path = model.find_last()\n",
    "# Load weights\n",
    "print(\"Loading weights \", weights_path)\n",
    "model.load_weights(weights_path, by_name=True) "
   ]
  },
  {
   "cell_type": "markdown",
   "metadata": {},
   "source": [
    "**5. Test model on DRRs**"
   ]
  },
  {
   "cell_type": "code",
   "execution_count": null,
   "metadata": {},
   "outputs": [],
   "source": [
    "# simulate test data\n",
    "gt_bboxs, pred_bboxs = [], []      \n",
    "gt_search_bboxs, pred_search_bboxs = [], []  \n",
    "gt_masks, pred_masks = [], []   \n",
    " \n",
    "for i in range(test_imgs.shape[0]):\n",
    "    gt, pred = model.test(test_imgs[i], test_labs[i], verbose = 0)\n",
    "    gt_bboxs.append(gt['gt_bboxs'])\n",
    "    pred_bboxs.append(pred['pred_bboxs'][:, np.newaxis, :])\n",
    "    gt_search_bboxs.append(gt['gt_search_bboxs'])\n",
    "    pred_search_bboxs.append(pred['pred_search_bboxs'][:, np.newaxis, :])\n",
    "    gt_masks.append(gt['gt_masks'])\n",
    "    pred_masks.append(pred['pred_masks'])\n",
    "gt_bboxs = np.stack(gt_bboxs, axis = 0)\n",
    "pred_bboxs = np.stack(pred_bboxs, axis = 0)\n",
    "gt_search_bboxs = np.stack(gt_search_bboxs, axis = 0)\n",
    "pred_search_bboxs = np.stack(pred_search_bboxs, axis = 0)\n",
    "gt_masks = np.stack(gt_masks, axis = 0)\n",
    "pred_masks = np.stack(pred_masks, axis = 0)\n",
    "\n",
    "gt_bboxs = np.reshape(gt_bboxs, (-1, 1, 4))\n",
    "pred_bboxs = np.reshape(pred_bboxs, (-1, 1, 4)) \n",
    "gt_search_bboxs = np.reshape(gt_search_bboxs, (-1, 1, 4))\n",
    "pred_search_bboxs = np.reshape(pred_search_bboxs, (-1, 1, 4))\n",
    "gt_masks = np.reshape(gt_masks, (-1, 384, 512))\n",
    "pred_masks = np.reshape(pred_masks, (-1, 384, 512))"
   ]
  },
  {
   "cell_type": "markdown",
   "metadata": {},
   "source": [
    "**6. Compute metrics**"
   ]
  },
  {
   "cell_type": "code",
   "execution_count": null,
   "metadata": {},
   "outputs": [],
   "source": [
    "miou = metrics.mIOU(gt_bboxs, pred_bboxs)\n",
    "accuracy = metrics.accuracy(gt_bboxs, pred_bboxs, \n",
    "                            iou_threshold = 0.7)\n",
    "\n",
    "cor_z, cor_x = metrics.concordance_correlation_coefficient(gt_search_bboxs, pred_search_bboxs)\n",
    "z_mad, z_std, x_mad, x_std = metrics.mad(gt_bboxs, pred_bboxs)    \n",
    "z_mad, z_std, x_mad, x_std = z_mad/3, z_std/3, x_mad/3, x_std/3 "
   ]
  },
  {
   "cell_type": "markdown",
   "metadata": {},
   "source": [
    "**7. Load X-Rays**"
   ]
  },
  {
   "cell_type": "code",
   "execution_count": null,
   "metadata": {},
   "outputs": [],
   "source": [
    "data_path = ''\n",
    "patient_name = 'patient2'\n",
    "xray_data_path = data_path + patient_name + '/X_rays/'\n",
    "\n",
    "xrays = load_data(xray_data_path + 'patient2_x_rays_1.h5', 'img')\n",
    "angles = load_data(xray_data_path + 'patient2_x_rays_1.h5', 'rot')\n",
    "angles = angles-270"
   ]
  },
  {
   "cell_type": "markdown",
   "metadata": {},
   "source": [
    "**8. Preprocess X-Rays**"
   ]
  },
  {
   "cell_type": "code",
   "execution_count": null,
   "metadata": {},
   "outputs": [],
   "source": [
    "xrays = utils.log_transform(xrays)\n",
    "\n",
    "shape = np.array(xrays.shape[1:])\n",
    "new_shape = shape//2\n",
    "xrays = xrays[:, shape[0]//2-new_shape[0]//2:shape[0]//2+new_shape[0]//2, \n",
    "                shape[1]//2-new_shape[1]//2:shape[1]//2+new_shape[1]//2] \n",
    "\n",
    "xrays = (xrays-np.min(xrays))/(np.max(xrays)-np.min(xrays))\n",
    "xrays = utils.gamma_transform(xrays, 5)"
   ]
  },
  {
   "cell_type": "markdown",
   "metadata": {},
   "source": [
    "**9. Test model on X-Rays**"
   ]
  },
  {
   "cell_type": "code",
   "execution_count": null,
   "metadata": {},
   "outputs": [],
   "source": [
    "outputs_xrays = model.test(xrays[0:], labs=None, verbose = 0)\n",
    "\n",
    "pred_masks = np.round(outputs_xrays[1]['pred_masks']).astype('uint8')\n",
    "pred_bboxs = outputs_xrays[1]['pred_bboxs'][np.newaxis, :, np.newaxis, :]\n",
    "pred_scores = outputs_xrays[1]['pred_scores']\n",
    "\n",
    "pred_centers =  np.array([pred_bboxs[..., 0] + (pred_bboxs[..., 2] -  pred_bboxs[..., 0])//2,  pred_bboxs[..., 1] + (pred_bboxs[..., 3] -  pred_bboxs[..., 1])//2])    \n",
    "pred_centers = np.transpose(pred_centers[:, 0, :, 0], (1, 0)) "
   ]
  }
 ],
 "metadata": {
  "kernelspec": {
   "display_name": "Python 3",
   "language": "python",
   "name": "python3"
  },
  "language_info": {
   "codemirror_mode": {
    "name": "ipython",
    "version": 3
   },
   "file_extension": ".py",
   "mimetype": "text/x-python",
   "name": "python",
   "nbconvert_exporter": "python",
   "pygments_lexer": "ipython3",
   "version": "3.6.10"
  }
 },
 "nbformat": 4,
 "nbformat_minor": 4
}
