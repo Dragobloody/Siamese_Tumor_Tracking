{
 "cells": [
  {
   "cell_type": "code",
   "execution_count": null,
   "metadata": {},
   "outputs": [],
   "source": [
    "import sys\n",
    "import os\n",
    "import random\n",
    "import datetime\n",
    "import re\n",
    "import math\n",
    "import logging\n",
    "from collections import OrderedDict\n",
    "import multiprocessing\n",
    "import numpy as np\n",
    "import tensorflow as tf\n",
    "import keras\n",
    "import keras.backend as K\n",
    "import keras.layers as KL\n",
    "import keras.engine as KE\n",
    "import keras.models as KM\n",
    "\n",
    "import index_tracker as track   \n",
    "import csv\n",
    "from keras.callbacks import LearningRateScheduler\n",
    "import cv2\n",
    "import scipy\n",
    "import h5py\n",
    "import skimage\n",
    "import time\n",
    "\n",
    "# set seed\n",
    "from numpy.random import seed\n",
    "seed(1234)\n",
    "from tensorflow import set_random_seed\n",
    "set_random_seed(1234)\n",
    "\n",
    "from semseg import utils, resnet, detection, losses, data_generator as dg, visualize, metrics\n",
    "from semseg.config import Config\n",
    "\n",
    "from semseg import semseg_model as modellib\n",
    "import dicom_to_numpy as dtn\n",
    "import matplotlib.pyplot as plt\n",
    "\n",
    "from semseg import testing_semseg"
   ]
  },
  {
   "cell_type": "markdown",
   "metadata": {},
   "source": [
    "**1. Set training hyperparameters**"
   ]
  },
  {
   "cell_type": "code",
   "execution_count": null,
   "metadata": {},
   "outputs": [],
   "source": [
    "class TumorConfig(Config):    \n",
    "    NAME = 'lung_tumor'\n",
    "    LOSS_WEIGHTS = {           \n",
    "        \"rpn_mask_loss\": 1.        \n",
    "    }\n",
    "    LEARNING_RATE = 0.001\n",
    "    IMAGES_PER_GPU = 1\n",
    "    TRAIN_BN = True\n",
    "    IMAGE_HEIGHT = 384\n",
    "    IMAGE_WIDTH = 384\n",
    "    IMAGE_SHAPE = [384, 384, 1]\n",
    "    STEPS_PER_EPOCH = 1000\n",
    "    VALIDATION_STEPS = 181   \n",
    "    \n",
    "    IMAGE_CHANNEL_COUNT = 1\n",
    "   \n",
    "\n",
    "# SET UP CONFIG\n",
    "config = TumorConfig()"
   ]
  },
  {
   "cell_type": "markdown",
   "metadata": {},
   "source": [
    "**2. Load DRR test datasets**"
   ]
  },
  {
   "cell_type": "code",
   "execution_count": null,
   "metadata": {},
   "outputs": [],
   "source": [
    "data_path = ''\n",
    "patient_name = 'patient1'\n",
    "model = 'semseg'\n",
    "data_mode = 'standard'\n",
    "drr_data_path = data_path + patient_name + '/models/'+ model + '/' + data_mode +'/dataset/'\n",
    "# Directory to save logs and trained model\n",
    "LOG_DIR =  data_path + patient_name + '/models/' + model + '/' + data_mode +'/logs/'\n",
    "\n",
    "test_imgs = dtn.load_data(drr_data_path + 'test_imgs.hdf5', 'test_imgs')\n",
    "test_labs = dtn.load_data(drr_data_path + 'test_labs.hdf5', 'test_labs')"
   ]
  },
  {
   "cell_type": "markdown",
   "metadata": {},
   "source": [
    "**3. Preprocess loaded datasets**"
   ]
  },
  {
   "cell_type": "code",
   "execution_count": null,
   "metadata": {},
   "outputs": [],
   "source": [
    "for i in range(test_labs.shape[0]):\n",
    "    for j in range(test_labs.shape[1]):\n",
    "        test_labs[i, j] = fit_ellipse(test_labs[i, j])        \n",
    "test_imgs = (test_imgs+1)/2.\n",
    "\n",
    "# TRAIN MODEL\n",
    "s = test_imgs.shape\n",
    "test_imgs = np.reshape(test_imgs, (-1, s[2], s[3]))[:, :, 64:-64]\n",
    "test_labs = np.reshape(test_labs, (-1, s[2], s[3]))[:, :, 64:-64]"
   ]
  },
  {
   "cell_type": "markdown",
   "metadata": {},
   "source": [
    "**4. Load trained model**"
   ]
  },
  {
   "cell_type": "code",
   "execution_count": null,
   "metadata": {},
   "outputs": [],
   "source": [
    "model = modellib.SiamMask(mode=\"inference\", config=config,\n",
    "                                      model_dir=LOG_DIR)\n",
    "\n",
    "\n",
    "weights_path = model.find_last()\n",
    "# Load weights\n",
    "print(\"Loading weights \", weights_path)\n",
    "model.load_weights(weights_path, by_name=True) "
   ]
  },
  {
   "cell_type": "markdown",
   "metadata": {},
   "source": [
    "**5. Test model on DRRs**"
   ]
  },
  {
   "cell_type": "code",
   "execution_count": null,
   "metadata": {},
   "outputs": [],
   "source": [
    "start = time.time()        \n",
    "outputs = model.test(test_imgs[0:], labs = test_labs[0:], verbose = 0)\n",
    "stop = time.time()\n",
    "print(stop-start)\n",
    "gt_bboxs = outputs[0]['gt_bboxs']\n",
    "pred_bboxs = outputs[1]['pred_bboxs'][:, np.newaxis, :]\n",
    "gt_masks = outputs[0]['gt_masks']\n",
    "pred_masks = outputs[1]['pred_masks']\n",
    "pred_centroids = outputs[1]['pred_centroid']"
   ]
  },
  {
   "cell_type": "markdown",
   "metadata": {},
   "source": [
    "**6. Compute metrics**"
   ]
  },
  {
   "cell_type": "code",
   "execution_count": null,
   "metadata": {},
   "outputs": [],
   "source": [
    "cor_z, cor_x = metrics.concordance_correlation_coefficient(gt_bboxs, pred_centroids)\n",
    "z_mad, z_std, x_mad, x_std = metrics.mad(gt_bboxs, pred_centroids)    \n",
    "z_mad, z_std, x_mad, x_std = z_mad/3, z_std/3, x_mad/3, x_std/3 "
   ]
  },
  {
   "cell_type": "markdown",
   "metadata": {},
   "source": [
    "**7. Load X-Rays**"
   ]
  },
  {
   "cell_type": "code",
   "execution_count": null,
   "metadata": {},
   "outputs": [],
   "source": [
    "data_path = ''\n",
    "patient_name = 'patient2'\n",
    "xray_data_path = data_path + patient_name + '/X_rays/'\n",
    "\n",
    "xrays = load_data(xray_data_path + 'patient2_x_rays_1.h5', 'img')\n",
    "angles = load_data(xray_data_path + 'patient2_x_rays_1.h5', 'rot')\n",
    "angles = angles-270"
   ]
  },
  {
   "cell_type": "markdown",
   "metadata": {},
   "source": [
    "**8. Preprocess X-Rays**"
   ]
  },
  {
   "cell_type": "code",
   "execution_count": null,
   "metadata": {},
   "outputs": [],
   "source": [
    "xrays = utils.log_transform(xrays)\n",
    "\n",
    "shape = np.array(xrays.shape[1:])\n",
    "new_shape = shape//2\n",
    "xrays = xrays[:, shape[0]//2-new_shape[0]//2:shape[0]//2+new_shape[0]//2, \n",
    "                shape[1]//2-new_shape[1]//2:shape[1]//2+new_shape[1]//2] \n",
    "\n",
    "xrays = (xrays-np.min(xrays))/(np.max(xrays)-np.min(xrays))\n",
    "xrays = utils.gamma_transform(xrays, 5)\n",
    "\n",
    "xrays_semseg = xrays[..., 64:-64]"
   ]
  },
  {
   "cell_type": "markdown",
   "metadata": {},
   "source": [
    "**9. Test model on X-Rays**"
   ]
  },
  {
   "cell_type": "code",
   "execution_count": null,
   "metadata": {},
   "outputs": [],
   "source": [
    "outputs_xrays = model.test(xrays_semseg[0:], labs=None, verbose = 0)\n",
    "\n",
    "pred_masks = np.round(outputs_xrays[1]['pred_masks']).astype('uint8')\n",
    "pred_centers = np.round(outputs_xrays[1]['pred_centroid']).astype('int32')\n",
    "pred_bboxs = np.concatenate((pred_centers-32, pred_centers+32), axis = 1)\n",
    "pred_bboxs = pred_bboxs[np.newaxis, :, np.newaxis, :]"
   ]
  }
 ],
 "metadata": {
  "kernelspec": {
   "display_name": "Python 3",
   "language": "python",
   "name": "python3"
  },
  "language_info": {
   "codemirror_mode": {
    "name": "ipython",
    "version": 3
   },
   "file_extension": ".py",
   "mimetype": "text/x-python",
   "name": "python",
   "nbconvert_exporter": "python",
   "pygments_lexer": "ipython3",
   "version": "3.6.10"
  }
 },
 "nbformat": 4,
 "nbformat_minor": 4
}
