{
 "cells": [
  {
   "cell_type": "code",
   "execution_count": null,
   "metadata": {},
   "outputs": [],
   "source": [
    "import sys\n",
    "import dicom_to_numpy as dtn\n",
    "import prepare_patient_data as ppd\n",
    "import numpy as np\n",
    "import matplotlib.pyplot as plt\n",
    "from MedImgSeg.preprocess  import normalize_set_3D, window_set_HU\n",
    "from MedImgSeg.dicom import load_dataset\n",
    "import index_tracker as track \n"
   ]
  },
  {
   "cell_type": "markdown",
   "metadata": {},
   "source": [
    "**1. Set the directories for loading the raw dicom data and saving the processed h5py data**"
   ]
  },
  {
   "cell_type": "code",
   "execution_count": null,
   "metadata": {},
   "outputs": [],
   "source": [
    "# insert patient data directory\n",
    "dicom_data_directory = ''\n",
    "h5py_data_directory = ''\n",
    "# discover names for structure in the dataset\n",
    "roi_tags = [['tumor']]\n",
    "not_roi_tags = [[]]"
   ]
  },
  {
   "cell_type": "markdown",
   "metadata": {},
   "source": [
    "**2. Generate the patient data as numpy vectors**"
   ]
  },
  {
   "cell_type": "code",
   "execution_count": null,
   "metadata": {},
   "outputs": [],
   "source": [
    "# GET DATASET\n",
    "p_dict = ppd.prepare_p_dict(dicom_data_directory, roi_tags, not_roi_tags)"
   ]
  },
  {
   "cell_type": "code",
   "execution_count": null,
   "metadata": {},
   "outputs": [],
   "source": [
    "dtn.create_cases(p_dict, h5py_data_directory)"
   ]
  },
  {
   "cell_type": "code",
   "execution_count": null,
   "metadata": {},
   "outputs": [],
   "source": [
    "base_name = ''\n",
    "dataset = load_dataset(h5py_data_directory, base_name)"
   ]
  },
  {
   "cell_type": "code",
   "execution_count": null,
   "metadata": {},
   "outputs": [],
   "source": [
    "save_dir = ''\n",
    "ppd.generate_patient_data(save_dir, dataset)"
   ]
  }
 ],
 "metadata": {
  "kernelspec": {
   "display_name": "Python 3",
   "language": "python",
   "name": "python3"
  },
  "language_info": {
   "codemirror_mode": {
    "name": "ipython",
    "version": 3
   },
   "file_extension": ".py",
   "mimetype": "text/x-python",
   "name": "python",
   "nbconvert_exporter": "python",
   "pygments_lexer": "ipython3",
   "version": "3.6.10"
  }
 },
 "nbformat": 4,
 "nbformat_minor": 4
}
