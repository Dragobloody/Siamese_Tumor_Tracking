{
 "cells": [
  {
   "cell_type": "code",
   "execution_count": null,
   "metadata": {},
   "outputs": [],
   "source": [
    "import sys\n",
    "import numpy as np\n",
    "import dicom_to_numpy as dtn\n",
    "import os\n",
    "import pirt\n",
    "import random\n",
    "import index_tracker as track   \n",
    "import matplotlib.pyplot as plt\n",
    "import keras.layers\n",
    "import scipy\n",
    "import h5py\n",
    "\n",
    "from src import networks, losses\n",
    "from deform_data import registration"
   ]
  },
  {
   "cell_type": "markdown",
   "metadata": {},
   "source": [
    "**1. Load the patient pCT scans (as numpy vectors) and the body contour.**"
   ]
  },
  {
   "cell_type": "code",
   "execution_count": null,
   "metadata": {},
   "outputs": [],
   "source": [
    "# LOAD DATA       \n",
    "load_data_path = ''   \n",
    "patient_name = 'patient1'\n",
    "imgs = dtn.load_data(load_data_path + patient_name + '/original_data/' + 'imgs.hdf5', 'imgs')\n",
    "labs = dtn.load_data(load_data_path + patient_name + '/original_data/' + 'labs.hdf5', 'labs')\n",
    "\n",
    "filename = load_data_path + patient_name + '/original_data/phase_0'\n",
    "with h5py.File(filename, 'r') as f:\n",
    "    body = np.array(f['body'], dtype = 'uint8')\n"
   ]
  },
  {
   "cell_type": "markdown",
   "metadata": {},
   "source": [
    "**2. Use diffeomorphic registration to generate new CT scans.**"
   ]
  },
  {
   "cell_type": "code",
   "execution_count": null,
   "metadata": {},
   "outputs": [],
   "source": [
    "vxm_patient_registration(imgs, labs, body, \n",
    "                         patient_name, \n",
    "                         nr_deformations = 3, \n",
    "                         save_dir = load_data_path)"
   ]
  }
 ],
 "metadata": {
  "kernelspec": {
   "display_name": "Python 3",
   "language": "python",
   "name": "python3"
  },
  "language_info": {
   "codemirror_mode": {
    "name": "ipython",
    "version": 3
   },
   "file_extension": ".py",
   "mimetype": "text/x-python",
   "name": "python",
   "nbconvert_exporter": "python",
   "pygments_lexer": "ipython3",
   "version": "3.6.10"
  }
 },
 "nbformat": 4,
 "nbformat_minor": 4
}
