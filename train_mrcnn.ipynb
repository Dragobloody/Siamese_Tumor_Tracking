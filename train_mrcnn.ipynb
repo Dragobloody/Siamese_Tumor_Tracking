{
 "cells": [
  {
   "cell_type": "code",
   "execution_count": null,
   "metadata": {},
   "outputs": [],
   "source": [
    "import os\n",
    "import numpy as np\n",
    "import keras.layers\n",
    "import matplotlib.pyplot as plt\n",
    "#import tensorflow as tf\n",
    "from sklearn.metrics import mean_squared_error\n",
    "import h5py\n",
    "import scipy\n",
    "import skimage\n",
    "import random\n",
    "import csv\n",
    "import cv2\n",
    "import index_tracker as track  \n",
    "from keras.callbacks import LearningRateScheduler\n",
    "import time\n",
    "\n",
    "import tensorflow.compat.v1 as tf\n",
    "tf.disable_v2_behavior()\n",
    "\n",
    "# set seed\n",
    "from numpy.random import seed\n",
    "seed(1234)\n",
    "from tensorflow import set_random_seed\n",
    "set_random_seed(1234)\n",
    "\n",
    "\n",
    "from MaskRCNN import maskrcnn_model as modellib, data_generator as dg, config as conf, visualize, utils, metrics\n",
    "from mrcnn import test_mrcnn"
   ]
  },
  {
   "cell_type": "markdown",
   "metadata": {},
   "source": [
    "**1. Set training hyperparameters**"
   ]
  },
  {
   "cell_type": "code",
   "execution_count": null,
   "metadata": {},
   "outputs": [],
   "source": [
    "# config\n",
    "config = conf.Config()\n",
    "config.NAME = 'lung_tumor'\n",
    "config.BACKBONE = \"resnet50\"\n",
    "config.BATCH_SIZE =  8\n",
    "config.IMAGES_PER_GPU = 8\n",
    "TRAIN_BN = None\n",
    "config.IMAGE_HEIGHT = 384\n",
    "config.IMAGE_WIDTH = 384\n",
    "config.IMAGE_SHAPE = [384, 384, 1]\n",
    "config.MASK = False\n",
    "config.FPN_CLASSIF_FC_LAYERS_SIZE = 256\n",
    "config.DETECTION_MIN_CONFIDENCE = 0.1\n",
    "\n",
    "data_path = ''   \n",
    "model = 'mrcnn'\n",
    "data_mode = 'standard'"
   ]
  },
  {
   "cell_type": "markdown",
   "metadata": {},
   "source": [
    "**2. Load training and validation data**"
   ]
  },
  {
   "cell_type": "code",
   "execution_count": null,
   "metadata": {},
   "outputs": [],
   "source": [
    "# load data\n",
    "patient_name = 'patient1'\n",
    "model_path = data_path + patient_name + '/models/' + model + '/' + data_mode\n",
    "drr_data_path = model_path + '/dataset/'    \n",
    "LOG_DIR = model_path + '/logs/'\n",
    "\n",
    "imgs = load_data(drr_data_path + 'train_imgs.hdf5', 'train_imgs')\n",
    "labs = load_data(drr_data_path + 'train_labs.hdf5', 'train_labs')\n",
    "test_imgs = load_data(drr_data_path + 'test_imgs.hdf5', 'test_imgs')\n",
    "test_labs = load_data(drr_data_path + 'test_labs.hdf5', 'test_labs')"
   ]
  },
  {
   "cell_type": "markdown",
   "metadata": {},
   "source": [
    "**3. Preprocess loaded data**"
   ]
  },
  {
   "cell_type": "code",
   "execution_count": null,
   "metadata": {},
   "outputs": [],
   "source": [
    "# get the center 384x384 region\n",
    "imgs = imgs[..., 64:-64]\n",
    "labs = labs[..., 64:-64]\n",
    "test_imgs = test_imgs[..., 64:-64]\n",
    "test_labs = test_labs[..., 64:-64]\n",
    "\n",
    "for i in range(labs.shape[0]):\n",
    "    for j in range(labs.shape[1]):\n",
    "        labs[i, j] = fit_ellipse(labs[i, j])\n",
    "for i in range(test_labs.shape[0]):\n",
    "    for j in range(test_labs.shape[1]):\n",
    "        test_labs[i, j] = fit_ellipse(test_labs[i, j]) \n",
    "imgs = (imgs+1)/2.\n",
    "test_imgs = (test_imgs+1)/2.\n",
    "\n",
    "# TRAIN MODEL\n",
    "s = test_imgs.shape\n",
    "imgs = np.reshape(imgs, (-1, s[2], s[3]))\n",
    "labs = np.reshape(labs, (-1, s[2], s[3]))\n",
    "test_imgs = np.reshape(test_imgs, (-1, s[2], s[3]))\n",
    "test_labs = np.reshape(test_labs, (-1, s[2], s[3]))"
   ]
  },
  {
   "cell_type": "markdown",
   "metadata": {},
   "source": [
    "**4. Define training model**"
   ]
  },
  {
   "cell_type": "code",
   "execution_count": null,
   "metadata": {},
   "outputs": [],
   "source": [
    "# load model\n",
    "model = modellib.MaskRCNN(mode=\"training\", model_dir=LOG_DIR,\n",
    "                          config=config)    "
   ]
  },
  {
   "cell_type": "markdown",
   "metadata": {},
   "source": [
    "**5. Train model**"
   ]
  },
  {
   "cell_type": "code",
   "execution_count": null,
   "metadata": {},
   "outputs": [],
   "source": [
    "def lr_scheduler(epoch, lr):\n",
    "    if epoch > 0 and epoch<=10 and lr < 1e-2:\n",
    "        lr = lr + lr/epoch\n",
    "    elif epoch > 10 and lr > 1e-5:\n",
    "        k = 0.05\n",
    "        lr = lr*np.exp(-k*epoch)\n",
    "    return lr\n",
    "lrs = LearningRateScheduler(lr_scheduler)  \n",
    "\n",
    "model.train(imgs, labs, test_imgs, test_labs,\n",
    "                learning_rate=config.LEARNING_RATE,\n",
    "                epochs=30,\n",
    "                layers='all',\n",
    "                custom_callbacks = [lrs])"
   ]
  }
 ],
 "metadata": {
  "kernelspec": {
   "display_name": "Python 3",
   "language": "python",
   "name": "python3"
  },
  "language_info": {
   "codemirror_mode": {
    "name": "ipython",
    "version": 3
   },
   "file_extension": ".py",
   "mimetype": "text/x-python",
   "name": "python",
   "nbconvert_exporter": "python",
   "pygments_lexer": "ipython3",
   "version": "3.6.10"
  }
 },
 "nbformat": 4,
 "nbformat_minor": 4
}
