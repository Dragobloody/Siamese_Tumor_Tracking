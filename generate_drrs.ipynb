{
 "cells": [
  {
   "cell_type": "code",
   "execution_count": null,
   "metadata": {},
   "outputs": [],
   "source": [
    "import os, sys\n",
    "import numpy as np\n",
    "\n",
    "import matplotlib.pyplot as plt\n",
    "import h5py\n",
    "import copy\n",
    "import random\n",
    "\n",
    "\n",
    "import dicom_to_numpy as dtn\n",
    "from deepdrr import projector\n",
    "import projection_matrix\n",
    "from analytic_generators import add_noise\n",
    "import mass_attenuation_gpu as mass_attenuation\n",
    "import spectrum_generator\n",
    "import add_scatter\n",
    "from utils import Camera\n",
    "import segmentation\n",
    "import get_tumor_center as gtc\n",
    "\n",
    "import index_tracker as track   \n",
    "\n",
    "from generate_drrs import generate_drrs"
   ]
  },
  {
   "cell_type": "markdown",
   "metadata": {},
   "source": [
    "**1. Set the hyperparameters for generating DRRs**"
   ]
  },
  {
   "cell_type": "code",
   "execution_count": null,
   "metadata": {},
   "outputs": [],
   "source": [
    "# SET HYPERPARAMETERS   \n",
    "# set max shifting for soft-tissue/ bone decorrelation and the number of shifts\n",
    "max_x = 32\n",
    "max_y = 32\n",
    "nr_shifts = 9\n",
    "standard = True\n",
    "decorrelate = True\n",
    "\n",
    "# set the height, width, pixel_size, the distance between the source and detector panel\n",
    "# and the distance between the source and pCT (isocenter_distance) \n",
    "camera = Camera(sensor_width = int(1024) + 2*max_y, sensor_height = int(768) + 2*max_x, \n",
    "                pixel_size = 0.388, source_to_detector_distance = 1500, \n",
    "                isocenter_distance = 1000)\n",
    "\n",
    "# set the angle perspectives and the number of simulated photons\n",
    "min_theta = 270\n",
    "max_theta = 271\n",
    "min_phi = 90\n",
    "max_phi = 271\n",
    "spacing_theta = 30\n",
    "spacing_phi = 1\n",
    "photon_count = 500000\n",
    "spectrum = spectrum_generator.SPECTRUM120KV_AL43"
   ]
  },
  {
   "cell_type": "markdown",
   "metadata": {},
   "source": [
    "**2. Load the pCT dataset**"
   ]
  },
  {
   "cell_type": "code",
   "execution_count": null,
   "metadata": {},
   "outputs": [],
   "source": [
    "data_path = ''\n",
    "patient_name = 'patient1'\n",
    "    \n",
    "# get voxel size\n",
    "filename = data_path + patient_name + '/original_data/phase_0'\n",
    "with h5py.File(filename, 'r') as f:\n",
    "    voxel_size = np.array(f['spacing'], dtype = 'float32')\n",
    "        \n",
    "\n",
    "# get tumor center\n",
    "labs = dtn.load_data(data_path + patient_name + '/original_data/' + 'labs.hdf5', 'labs')    \n",
    "labs = np.flip(labs, axis = 3)    \n",
    "\n",
    "x, y, z = gtc.get_patient_relative_center(labs)\n",
    "origin = [x, y, z] * voxel_size"
   ]
  },
  {
   "cell_type": "markdown",
   "metadata": {},
   "source": [
    "**3. Generate DRRs**"
   ]
  },
  {
   "cell_type": "code",
   "execution_count": null,
   "metadata": {},
   "outputs": [],
   "source": [
    "# generate drrs\n",
    "generate_patient_drrs(data_path, patient_name, voxel_size, min_theta, max_theta, min_phi, \n",
    "                          max_phi, spacing_theta, spacing_phi, photon_count, camera, spectrum, \n",
    "                          scatter = False, noise = True,\n",
    "                          standard = standard, decorrelate = decorrelate,\n",
    "                          max_x = max_x, max_y = max_y, nr_shifts = nr_shifts, origin = origin)"
   ]
  }
 ],
 "metadata": {
  "kernelspec": {
   "display_name": "Python 3",
   "language": "python",
   "name": "python3"
  },
  "language_info": {
   "codemirror_mode": {
    "name": "ipython",
    "version": 3
   },
   "file_extension": ".py",
   "mimetype": "text/x-python",
   "name": "python",
   "nbconvert_exporter": "python",
   "pygments_lexer": "ipython3",
   "version": "3.6.10"
  }
 },
 "nbformat": 4,
 "nbformat_minor": 4
}
