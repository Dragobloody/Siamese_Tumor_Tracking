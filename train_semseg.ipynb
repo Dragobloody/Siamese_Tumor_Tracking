{
 "cells": [
  {
   "cell_type": "code",
   "execution_count": null,
   "metadata": {},
   "outputs": [],
   "source": [
    "import sys\n",
    "import os\n",
    "import random\n",
    "import datetime\n",
    "import re\n",
    "import math\n",
    "import logging\n",
    "from collections import OrderedDict\n",
    "import multiprocessing\n",
    "import numpy as np\n",
    "import tensorflow as tf\n",
    "import keras\n",
    "import keras.backend as K\n",
    "import keras.layers as KL\n",
    "import keras.engine as KE\n",
    "import keras.models as KM\n",
    "\n",
    "import index_tracker as track   \n",
    "import csv\n",
    "from keras.callbacks import LearningRateScheduler\n",
    "import cv2\n",
    "import scipy\n",
    "import h5py\n",
    "import skimage\n",
    "import time\n",
    "\n",
    "# set seed\n",
    "from numpy.random import seed\n",
    "seed(1234)\n",
    "from tensorflow import set_random_seed\n",
    "set_random_seed(1234)\n",
    "\n",
    "from semseg import utils, resnet, detection, losses, data_generator as dg, visualize, metrics\n",
    "from semseg.config import Config\n",
    "\n",
    "from semseg import semseg_model as modellib\n",
    "import dicom_to_numpy as dtn\n",
    "import matplotlib.pyplot as plt\n",
    "\n",
    "from semseg import testing_semseg"
   ]
  },
  {
   "cell_type": "markdown",
   "metadata": {},
   "source": [
    "**1. Set training hyperparameters**"
   ]
  },
  {
   "cell_type": "code",
   "execution_count": null,
   "metadata": {},
   "outputs": [],
   "source": [
    "class TumorConfig(Config):    \n",
    "    NAME = 'lung_tumor'\n",
    "    LOSS_WEIGHTS = {           \n",
    "        \"rpn_mask_loss\": 1.        \n",
    "    }\n",
    "    LEARNING_RATE = 0.001\n",
    "    IMAGES_PER_GPU = 16\n",
    "    TRAIN_BN = None  \n",
    "    IMAGE_HEIGHT = 384\n",
    "    IMAGE_WIDTH = 384\n",
    "    IMAGE_SHAPE = [384, 384, 1]\n",
    "    STEPS_PER_EPOCH = 1000\n",
    "    VALIDATION_STEPS = 181   \n",
    "    \n",
    "    IMAGE_CHANNEL_COUNT = 1\n",
    "   \n",
    "\n",
    "# SET UP CONFIG\n",
    "config = TumorConfig()"
   ]
  },
  {
   "cell_type": "markdown",
   "metadata": {},
   "source": [
    "**2. Load training and validation datasets**"
   ]
  },
  {
   "cell_type": "code",
   "execution_count": null,
   "metadata": {},
   "outputs": [],
   "source": [
    "data_path = ''\n",
    "patient_name = 'patient1'\n",
    "model = 'semseg'\n",
    "data_mode = 'standard'\n",
    "drr_data_path = data_path + patient_name + '/models/'+ model + '/' + data_mode +'/dataset/'\n",
    "# Directory to save logs and trained model\n",
    "LOG_DIR =  data_path + patient_name + '/models/' + model + '/' + data_mode +'/logs/'\n",
    "\n",
    "\n",
    "imgs = dtn.load_data(drr_data_path + 'train_imgs.hdf5', 'train_imgs')\n",
    "labs = dtn.load_data(drr_data_path + 'train_labs.hdf5', 'train_labs')\n",
    "test_imgs = dtn.load_data(drr_data_path + 'test_imgs.hdf5', 'test_imgs')\n",
    "test_labs = dtn.load_data(drr_data_path + 'test_labs.hdf5', 'test_labs')"
   ]
  },
  {
   "cell_type": "markdown",
   "metadata": {},
   "source": [
    "**3. Preprocess loaded datasets**"
   ]
  },
  {
   "cell_type": "code",
   "execution_count": null,
   "metadata": {},
   "outputs": [],
   "source": [
    "for i in range(labs.shape[0]):\n",
    "    for j in range(labs.shape[1]):\n",
    "        labs[i, j] = fit_ellipse(labs[i, j])\n",
    "for i in range(test_labs.shape[0]):\n",
    "    for j in range(test_labs.shape[1]):\n",
    "        test_labs[i, j] = fit_ellipse(test_labs[i, j])\n",
    "        \n",
    "        \n",
    "imgs = (imgs+1)/2.\n",
    "test_imgs = (test_imgs+1)/2.\n",
    "\n",
    "# TRAIN MODEL\n",
    "s = test_imgs.shape\n",
    "imgs = np.reshape(imgs, (-1, s[2], s[3]))[:, :, 64:-64]\n",
    "labs = np.reshape(labs, (-1, s[2], s[3]))[:, :, 64:-64]\n",
    "test_imgs = np.reshape(test_imgs, (-1, s[2], s[3]))[:, :, 64:-64]\n",
    "test_labs = np.reshape(test_labs, (-1, s[2], s[3]))[:, :, 64:-64]"
   ]
  },
  {
   "cell_type": "markdown",
   "metadata": {},
   "source": [
    "**4. Define training model**"
   ]
  },
  {
   "cell_type": "code",
   "execution_count": null,
   "metadata": {},
   "outputs": [],
   "source": [
    "model = modellib.SiamMask(mode=\"training\", config=config,\n",
    "                                      model_dir=LOG_DIR)"
   ]
  },
  {
   "cell_type": "markdown",
   "metadata": {},
   "source": [
    "**5. Train model**"
   ]
  },
  {
   "cell_type": "code",
   "execution_count": null,
   "metadata": {},
   "outputs": [],
   "source": [
    "def lr_scheduler(epoch, lr):\n",
    "    if epoch > 0 and epoch<=10 and lr < 1e-2:\n",
    "        lr = lr + lr/epoch\n",
    "    elif epoch > 10 and lr > 1e-5:\n",
    "        k = 0.05\n",
    "        lr = lr*np.exp(-k*epoch)\n",
    "    return lr\n",
    "\n",
    "lrs = LearningRateScheduler(lr_scheduler)  \n",
    "\n",
    "model.train(imgs, labs, test_imgs, test_labs,\n",
    "                learning_rate=config.LEARNING_RATE,\n",
    "                epochs=30,\n",
    "                layers='all',\n",
    "                custom_callbacks = [lrs])"
   ]
  }
 ],
 "metadata": {
  "kernelspec": {
   "display_name": "Python 3",
   "language": "python",
   "name": "python3"
  },
  "language_info": {
   "codemirror_mode": {
    "name": "ipython",
    "version": 3
   },
   "file_extension": ".py",
   "mimetype": "text/x-python",
   "name": "python",
   "nbconvert_exporter": "python",
   "pygments_lexer": "ipython3",
   "version": "3.6.10"
  }
 },
 "nbformat": 4,
 "nbformat_minor": 4
}
